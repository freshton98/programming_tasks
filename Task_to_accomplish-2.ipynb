{
 "cells": [
  {
   "cell_type": "code",
   "execution_count": null,
   "metadata": {},
   "outputs": [],
   "source": [
    "# Take the data of employees with different hierarchical positions from the database  \n",
    "# orelse consider it in an Json array form\n",
    "#copying each value and loading it in new list\n",
    "#we could provide implementations to be loaded from DB, File, Excel, CSV etc.\n",
    "# values loaded from different source as dict"
   ]
  },
  {
   "cell_type": "code",
   "execution_count": null,
   "metadata": {},
   "outputs": [],
   "source": [
    "we  need to update the hike in employee salaries in the database data according to the designation which they holds"
   ]
  },
  {
   "cell_type": "code",
   "execution_count": null,
   "metadata": {},
   "outputs": [],
   "source": [
    "employ_dict = [{\"name\":\"ramesh\",\"age\":25, \"dept\":\"engineering\",\"designation\":\"DB Engineer\",\"salary\":30000},\n",
    "                 {\"name\":\"leena\",\"age\":23, \"dept\":\"engineering\",\"designation\":\"Architect\",\"salary\":80000},\n",
    "                 {\"name\":\"sherlock\",\"age\":30, \"dept\":\"sales\",\"designation\":\"Sales Officer\",\"salary\":60000},\n",
    "                 {\"name\":\"lestrade\",\"age\":40, \"dept\":\"sales\",\"designation\":\"VP\",\"salary\":100000},\n",
    "                 {\"name\":\"bean\",\"age\":35, \"dept\":\"support\",\"designation\":\"VP\",\"salary\":200000},\n",
    "                 {\"name\":\"stapleton\",\"age\":20, \"dept\":\"hr\",\"designation\":\"Intern\",\"salary\":5000}]\n"
   ]
  },
  {
   "cell_type": "code",
   "execution_count": null,
   "metadata": {},
   "outputs": [],
   "source": [
    "#Rules\n",
    " # Need to apply salary revision for all except Interns\n",
    " # Need to apply promotions for all Employee as per the guidelines \n",
    " # If designation is VP apply x% (25% for example)\n",
    " # If dept is Engineering apply x% (15% fo r example)\n",
    " # All Sales folks with x % (10% for example) \n",
    " # All support folks with x % (12.5% for example)"
   ]
  },
  {
   "cell_type": "code",
   "execution_count": null,
   "metadata": {},
   "outputs": [],
   "source": [
    "# Eventually print the employ_dict after hike in each designation(if exits)"
   ]
  },
  {
   "cell_type": "code",
   "execution_count": null,
   "metadata": {},
   "outputs": [],
   "source": []
  },
  {
   "cell_type": "code",
   "execution_count": null,
   "metadata": {},
   "outputs": [],
   "source": []
  }
 ],
 "metadata": {
  "kernelspec": {
   "display_name": "Python 3",
   "language": "python",
   "name": "python3"
  },
  "language_info": {
   "codemirror_mode": {
    "name": "ipython",
    "version": 3
   },
   "file_extension": ".py",
   "mimetype": "text/x-python",
   "name": "python",
   "nbconvert_exporter": "python",
   "pygments_lexer": "ipython3",
   "version": "3.7.4"
  }
 },
 "nbformat": 4,
 "nbformat_minor": 2
}
