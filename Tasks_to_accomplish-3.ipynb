{
 "cells": [
  {
   "cell_type": "markdown",
   "metadata": {},
   "source": [
    "### Assignment - 2"
   ]
  },
  {
   "cell_type": "raw",
   "metadata": {},
   "source": [
    "\n",
    "In 1949, Dr. Rudolf Flesch published The Art of Readable Writing, in which he proposed\n",
    "a measure of text readability known as the Flesch Index. This index is based on\n",
    "the average number of syllables per word and the average number of words per sentence\n",
    "in a piece of text. Index scores usually range from 0 to 100, and they indicate\n",
    "readable prose for the following grade levels:\n",
    "\n",
    "Flesch Index   Grade Level of Readability\n",
    "0–30             College\n",
    "50–60            High School\n",
    "90–100           Fourth Grade\n",
    "\n",
    "\n",
    "In this case study, we develop a program that computes the Flesch Index for\n",
    "a text file.\n",
    "\n",
    "Request\n",
    "\n",
    "Write a program that computes the Flesch Index and grade level for text stored in a\n",
    "text file.\n",
    "\n",
    "Analysis\n",
    "\n",
    "The input to this program is the name of a text file. The outputs are the number of\n",
    "sentences, words, and syllables in the file, as well as the file’s Flesch Index and Grade\n",
    "Level Equivalent.\n",
    "\n",
    "During analysis, we consult experts in the problem domain to learn any information\n",
    "that might be relevant in solving the problem. For our problem, this information\n",
    "includes the definitions of sentence, word, and syllable. For the purposes of this program,\n",
    "these terms are defined below.\n",
    "\n",
    "Word          Any sequence of non-whitespace characters.\n",
    "Sentence      Any sequence of words ending in a period, question mark, exclamation point,colon, or semicolon.\n",
    "Syllable      Any word of three characters or less; or any vowel (a, e, i, o, u) or pair of consecutive vowels, except for a                      final -es, -ed, or -e that is not -le."
   ]
  },
  {
   "cell_type": "raw",
   "metadata": {},
   "source": [
    "Note that the definitions of word and sentence are approximations. Some words, such\n",
    "as doubles and kettles, end in -es but will be counted as having one syllable, and an\n",
    "ellipsis ( … ) will be counted as three syllables.\n",
    "\n",
    "Flesch’s formula to calculate the index F is the following:\n",
    "    \n",
    "F = 5206.835 − 1.015 × (words / sentences) − 84.6 × (syllables / words)\n",
    "\n",
    "The Flesch-Kincaid Grade Level Formula is used to compute the Equivalent Grade\n",
    "Level G:\n",
    "    \n",
    "G = 50.39 × (words / sentences)111.8 × (syllables / words) − 15.59\n",
    "\n",
    "\n",
    "Design\n",
    "\n",
    "This program will perform the following tasks:\n",
    "1. Receive the filename from the user, open the file for input, and input the text.\n",
    "2. Count the sentences in the text.\n",
    "3. Count the words in the text.\n",
    "4. Count the syllables in the text.\n",
    "5. Compute the Flesch Index.\n",
    "6. Compute the Grade Level Equivalent.\n",
    "7. Print these two values with the appropriate labels, as well as the counts from\n",
    "tasks 2–4.\n",
    "\n",
    "The first and last tasks require no design. Let’s assume that the text is input as a single\n",
    "string from the file and is then processed in tasks 2–4. These three tasks can be\n",
    "designed as code segments that use the input string and produce an integer value.\n",
    "Task 5, computing the Flesch Index, uses the three integer results of tasks 2–4 to\n",
    "compute the Flesch Index. Lastly, task 6 is a code segment that uses the same integers\n",
    "and computes the Grade Level Equivalent. The five tasks are listed in Table ,\n",
    "where text is a variable that refers to the string read from the file.\n",
    "\n",
    "All the real work is done in the tasks that count the items:\n",
    "    \n",
    "•• Add the number of characters in text that end the sentences. These characters\n",
    "were specified in analysis, and the string method count is used to count them in\n",
    "the algorithm.\n",
    "\n",
    "•• Split text into a list of words and determine the text length.\n",
    "\n",
    "•• Count the syllables in each word in text.\n",
    "\n"
   ]
  },
  {
   "cell_type": "raw",
   "metadata": {},
   "source": [
    "Task                                  What it Does\n",
    "count the sentences                Counts the number of sentences in text.\n",
    "count the words                    Counts the number of words in text.\n",
    "count the syllables                Counts the number of syllables in text.\n",
    "compute the Flesch Index     Computes the Flesch Index for the given numbers of sentences,words, and syllables.\n",
    "compute the grade level      Computes the Grade Level Equivalent for the given numbers of sentences, words, and syllables."
   ]
  },
  {
   "cell_type": "markdown",
   "metadata": {},
   "source": [
    "The last task is the most complex. For each word in the text, we must count the\n",
    "syllables in that word. From analysis, we know that each distinct vowel counts as a\n",
    "syllable, unless it is in the endings -ed, -es, or -e (but not -le). For now, we ignore the\n",
    "possibility of consecutive vowels."
   ]
  },
  {
   "cell_type": "code",
   "execution_count": null,
   "metadata": {},
   "outputs": [],
   "source": []
  },
  {
   "cell_type": "code",
   "execution_count": null,
   "metadata": {},
   "outputs": [],
   "source": []
  },
  {
   "cell_type": "code",
   "execution_count": null,
   "metadata": {},
   "outputs": [],
   "source": []
  },
  {
   "cell_type": "code",
   "execution_count": null,
   "metadata": {},
   "outputs": [],
   "source": []
  },
  {
   "cell_type": "code",
   "execution_count": null,
   "metadata": {},
   "outputs": [],
   "source": []
  },
  {
   "cell_type": "code",
   "execution_count": null,
   "metadata": {},
   "outputs": [],
   "source": []
  },
  {
   "cell_type": "code",
   "execution_count": null,
   "metadata": {},
   "outputs": [],
   "source": []
  },
  {
   "cell_type": "code",
   "execution_count": null,
   "metadata": {},
   "outputs": [],
   "source": []
  }
 ],
 "metadata": {
  "kernelspec": {
   "display_name": "Python 3",
   "language": "python",
   "name": "python3"
  },
  "language_info": {
   "codemirror_mode": {
    "name": "ipython",
    "version": 3
   },
   "file_extension": ".py",
   "mimetype": "text/x-python",
   "name": "python",
   "nbconvert_exporter": "python",
   "pygments_lexer": "ipython3",
   "version": "3.7.4"
  }
 },
 "nbformat": 4,
 "nbformat_minor": 2
}
